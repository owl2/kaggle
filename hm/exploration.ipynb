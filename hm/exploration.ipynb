{
 "cells": [
  {
   "cell_type": "code",
   "execution_count": 2,
   "id": "8ccb8957-841d-49f7-ad09-b233a6d741b2",
   "metadata": {},
   "outputs": [],
   "source": [
    "import pandas as pd"
   ]
  },
  {
   "cell_type": "code",
   "execution_count": 7,
   "id": "94a638fd-46ec-475e-a994-8ddb4ce78dcf",
   "metadata": {},
   "outputs": [],
   "source": [
    "transaction_train_path = '00_data/transactions_train.csv'\n",
    "\n",
    "transaction_train_df = pd.read_csv(transaction_train_path, index_col=['customer_id', 'article_id'], parse_dates=['t_dat'])"
   ]
  },
  {
   "cell_type": "code",
   "execution_count": 14,
   "id": "52550ad7-590e-4044-a3de-27f5314bf95d",
   "metadata": {},
   "outputs": [
    {
     "data": {
      "text/plain": [
       "t_dat               31739925\n",
       "price               31739925\n",
       "sales_channel_id    31739925\n",
       "dtype: int64"
      ]
     },
     "execution_count": 14,
     "metadata": {},
     "output_type": "execute_result"
    }
   ],
   "source": [
    "test_date = transaction_train_df[transaction_train_df['t_dat'] >= '2018-09-21'].count()\n",
    "test_date.head()"
   ]
  },
  {
   "cell_type": "code",
   "execution_count": null,
   "id": "7361c950-22d4-4745-92d7-20d4e9298e56",
   "metadata": {},
   "outputs": [],
   "source": []
  }
 ],
 "metadata": {
  "kernelspec": {
   "display_name": "Python 3 (ipykernel)",
   "language": "python",
   "name": "python3"
  },
  "language_info": {
   "codemirror_mode": {
    "name": "ipython",
    "version": 3
   },
   "file_extension": ".py",
   "mimetype": "text/x-python",
   "name": "python",
   "nbconvert_exporter": "python",
   "pygments_lexer": "ipython3",
   "version": "3.8.12"
  }
 },
 "nbformat": 4,
 "nbformat_minor": 5
}
