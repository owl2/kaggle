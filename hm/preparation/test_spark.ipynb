{
 "cells": [
  {
   "cell_type": "code",
   "execution_count": 1,
   "id": "8a47a1e4-6881-47ee-88be-010ea8022e90",
   "metadata": {},
   "outputs": [
    {
     "name": "stderr",
     "output_type": "stream",
     "text": [
      "22/03/03 11:30:11 WARN Utils: Your hostname, VM-DEV.sglk.local resolves to a loopback address: 127.0.0.1; using 10.0.2.15 instead (on interface enp0s3)\n",
      "22/03/03 11:30:11 WARN Utils: Set SPARK_LOCAL_IP if you need to bind to another address\n",
      "WARNING: An illegal reflective access operation has occurred\n",
      "WARNING: Illegal reflective access by org.apache.spark.unsafe.Platform (file:/home/dev-vm/kaggle/venv/lib/python3.8/site-packages/pyspark/jars/spark-unsafe_2.12-3.2.1.jar) to constructor java.nio.DirectByteBuffer(long,int)\n",
      "WARNING: Please consider reporting this to the maintainers of org.apache.spark.unsafe.Platform\n",
      "WARNING: Use --illegal-access=warn to enable warnings of further illegal reflective access operations\n",
      "WARNING: All illegal access operations will be denied in a future release\n",
      "Using Spark's default log4j profile: org/apache/spark/log4j-defaults.properties\n",
      "Setting default log level to \"WARN\".\n",
      "To adjust logging level use sc.setLogLevel(newLevel). For SparkR, use setLogLevel(newLevel).\n",
      "22/03/03 11:30:12 WARN NativeCodeLoader: Unable to load native-hadoop library for your platform... using builtin-java classes where applicable\n"
     ]
    }
   ],
   "source": [
    "import pyspark\n",
    "from pyspark.sql import SparkSession\n",
    "\n",
    "\n",
    "spark = SparkSession.builder.appName(\"kaggle_hm_app\").getOrCreate()\n",
    "\n",
    "transactions_train_df = spark.read.option(\"header\", True).csv(\"../00_data/transactions_train.csv\")\n",
    "articles_df = spark.read.option(\"header\", True).csv(\"../00_data/articles.csv\")\n",
    "customers_df = spark.read.option(\"header\", True).csv(\"../00_data/customers.csv\")\n"
   ]
  },
  {
   "cell_type": "code",
   "execution_count": 151,
   "id": "0df39771-424f-41b5-8d5f-a1867f80e2ab",
   "metadata": {},
   "outputs": [
    {
     "name": "stderr",
     "output_type": "stream",
     "text": [
      "                                                                                \r"
     ]
    }
   ],
   "source": [
    "transaction_train_2018 = transactions_train_df.filter((transactions_train_df[\"t_dat\"] >= \"2018-09-20\") & (transactions_train_df[\"t_dat\"] <= \"2018-12-31\"))\\\n",
    "                                              .groupBy([\"customer_id\"])\\\n",
    "                                              .count()\n",
    "df_2018 = transaction_train_2018.join(customers_df, transaction_train_2018.customer_id == customers_df.customer_id, \"left\")\\\n",
    "                                .toPandas()"
   ]
  },
  {
   "cell_type": "code",
   "execution_count": 4,
   "id": "f6df81c7-81e5-46c5-87a5-edb897195575",
   "metadata": {},
   "outputs": [
    {
     "name": "stderr",
     "output_type": "stream",
     "text": [
      "                                                                                \r"
     ]
    }
   ],
   "source": [
    "transaction_train_2019 = transactions_train_df.filter((transactions_train_df[\"t_dat\"] >= \"2019-09-20\") & (transactions_train_df[\"t_dat\"] <= \"2019-12-31\"))\\\n",
    "                                              .groupBy([\"customer_id\"])\\\n",
    "                                              .count()\n",
    "df_2019 = transaction_train_2019.join(customers_df, transaction_train_2019.customer_id == customers_df.customer_id, \"left\")\\\n",
    "                                .toPandas()"
   ]
  },
  {
   "cell_type": "code",
   "execution_count": 11,
   "id": "8a9c1cd2-a447-4d77-9cbf-6da98f52eab9",
   "metadata": {},
   "outputs": [
    {
     "data": {
      "text/html": [
       "<div>\n",
       "<style scoped>\n",
       "    .dataframe tbody tr th:only-of-type {\n",
       "        vertical-align: middle;\n",
       "    }\n",
       "\n",
       "    .dataframe tbody tr th {\n",
       "        vertical-align: top;\n",
       "    }\n",
       "\n",
       "    .dataframe thead th {\n",
       "        text-align: right;\n",
       "    }\n",
       "</style>\n",
       "<table border=\"1\" class=\"dataframe\">\n",
       "  <thead>\n",
       "    <tr style=\"text-align: right;\">\n",
       "      <th></th>\n",
       "      <th>customer_id</th>\n",
       "      <th>count</th>\n",
       "      <th>customer_id</th>\n",
       "      <th>FN</th>\n",
       "      <th>Active</th>\n",
       "      <th>club_member_status</th>\n",
       "      <th>fashion_news_frequency</th>\n",
       "      <th>age</th>\n",
       "      <th>postal_code</th>\n",
       "    </tr>\n",
       "  </thead>\n",
       "  <tbody>\n",
       "    <tr>\n",
       "      <th>0</th>\n",
       "      <td>0000423b00ade91418cceaf3b26c6af3dd342b51fd051e...</td>\n",
       "      <td>8</td>\n",
       "      <td>0000423b00ade91418cceaf3b26c6af3dd342b51fd051e...</td>\n",
       "      <td>None</td>\n",
       "      <td>None</td>\n",
       "      <td>ACTIVE</td>\n",
       "      <td>NONE</td>\n",
       "      <td>25</td>\n",
       "      <td>2973abc54daa8a5f8ccfe9362140c63247c5eee03f1d93...</td>\n",
       "    </tr>\n",
       "    <tr>\n",
       "      <th>1</th>\n",
       "      <td>000058a12d5b43e67d225668fa1f8d618c13dc232df0ca...</td>\n",
       "      <td>3</td>\n",
       "      <td>000058a12d5b43e67d225668fa1f8d618c13dc232df0ca...</td>\n",
       "      <td>None</td>\n",
       "      <td>None</td>\n",
       "      <td>ACTIVE</td>\n",
       "      <td>NONE</td>\n",
       "      <td>24</td>\n",
       "      <td>64f17e6a330a85798e4998f62d0930d14db8db1c054af6...</td>\n",
       "    </tr>\n",
       "    <tr>\n",
       "      <th>2</th>\n",
       "      <td>0000c97821eb48d0e590fd309133f0a6c08f7750f64ccc...</td>\n",
       "      <td>1</td>\n",
       "      <td>0000c97821eb48d0e590fd309133f0a6c08f7750f64ccc...</td>\n",
       "      <td>None</td>\n",
       "      <td>None</td>\n",
       "      <td>ACTIVE</td>\n",
       "      <td>NONE</td>\n",
       "      <td>49</td>\n",
       "      <td>8ff2d3103bd127d46e7238c6cee0f3fd9a01bd4a49fb98...</td>\n",
       "    </tr>\n",
       "    <tr>\n",
       "      <th>3</th>\n",
       "      <td>0001f8cef6b9702d54abf66fd89eb21014bf98567065a9...</td>\n",
       "      <td>7</td>\n",
       "      <td>0001f8cef6b9702d54abf66fd89eb21014bf98567065a9...</td>\n",
       "      <td>None</td>\n",
       "      <td>None</td>\n",
       "      <td>ACTIVE</td>\n",
       "      <td>NONE</td>\n",
       "      <td>21</td>\n",
       "      <td>4211d6bf468de190b2f135feed96ed94b1c47f1d68991c...</td>\n",
       "    </tr>\n",
       "    <tr>\n",
       "      <th>4</th>\n",
       "      <td>000226b9ea81019249060b376b516f821a80e9b24f89a7...</td>\n",
       "      <td>12</td>\n",
       "      <td>000226b9ea81019249060b376b516f821a80e9b24f89a7...</td>\n",
       "      <td>None</td>\n",
       "      <td>None</td>\n",
       "      <td>ACTIVE</td>\n",
       "      <td>NONE</td>\n",
       "      <td>25</td>\n",
       "      <td>7bc2c8dd1064b51b2c0d41bdf6a5d8224bd1b16fbeaf6d...</td>\n",
       "    </tr>\n",
       "  </tbody>\n",
       "</table>\n",
       "</div>"
      ],
      "text/plain": [
       "                                         customer_id  count  \\\n",
       "0  0000423b00ade91418cceaf3b26c6af3dd342b51fd051e...      8   \n",
       "1  000058a12d5b43e67d225668fa1f8d618c13dc232df0ca...      3   \n",
       "2  0000c97821eb48d0e590fd309133f0a6c08f7750f64ccc...      1   \n",
       "3  0001f8cef6b9702d54abf66fd89eb21014bf98567065a9...      7   \n",
       "4  000226b9ea81019249060b376b516f821a80e9b24f89a7...     12   \n",
       "\n",
       "                                         customer_id    FN Active  \\\n",
       "0  0000423b00ade91418cceaf3b26c6af3dd342b51fd051e...  None   None   \n",
       "1  000058a12d5b43e67d225668fa1f8d618c13dc232df0ca...  None   None   \n",
       "2  0000c97821eb48d0e590fd309133f0a6c08f7750f64ccc...  None   None   \n",
       "3  0001f8cef6b9702d54abf66fd89eb21014bf98567065a9...  None   None   \n",
       "4  000226b9ea81019249060b376b516f821a80e9b24f89a7...  None   None   \n",
       "\n",
       "  club_member_status fashion_news_frequency age  \\\n",
       "0             ACTIVE                   NONE  25   \n",
       "1             ACTIVE                   NONE  24   \n",
       "2             ACTIVE                   NONE  49   \n",
       "3             ACTIVE                   NONE  21   \n",
       "4             ACTIVE                   NONE  25   \n",
       "\n",
       "                                         postal_code  \n",
       "0  2973abc54daa8a5f8ccfe9362140c63247c5eee03f1d93...  \n",
       "1  64f17e6a330a85798e4998f62d0930d14db8db1c054af6...  \n",
       "2  8ff2d3103bd127d46e7238c6cee0f3fd9a01bd4a49fb98...  \n",
       "3  4211d6bf468de190b2f135feed96ed94b1c47f1d68991c...  \n",
       "4  7bc2c8dd1064b51b2c0d41bdf6a5d8224bd1b16fbeaf6d...  "
      ]
     },
     "execution_count": 11,
     "metadata": {},
     "output_type": "execute_result"
    }
   ],
   "source": [
    "df_2018.head()"
   ]
  },
  {
   "cell_type": "code",
   "execution_count": 152,
   "id": "d423e6f0-d68a-4353-8ccc-732dfae82a2c",
   "metadata": {},
   "outputs": [],
   "source": [
    "df_2018_columns = [\"customer_id\", \"count\", \"customer_id_delete\", \"FN\", \"Active\", \"club_member_status\", \"fashion_news_frequency\", \"age\", \"postal_code\"]\n",
    "df_2018.columns = df_2018_columns\n",
    "df_2018 = df_2018.drop(columns=[\"customer_id_delete\"])\n",
    "df_2018 = df_2018[[\"customer_id\", \"FN\", \"Active\", \"club_member_status\", \"fashion_news_frequency\", \"age\", \"postal_code\", \"count\"]]"
   ]
  },
  {
   "cell_type": "code",
   "execution_count": 101,
   "id": "878e0259-92cb-4633-a2a0-202e92837040",
   "metadata": {},
   "outputs": [
    {
     "data": {
      "text/html": [
       "<div>\n",
       "<style scoped>\n",
       "    .dataframe tbody tr th:only-of-type {\n",
       "        vertical-align: middle;\n",
       "    }\n",
       "\n",
       "    .dataframe tbody tr th {\n",
       "        vertical-align: top;\n",
       "    }\n",
       "\n",
       "    .dataframe thead th {\n",
       "        text-align: right;\n",
       "    }\n",
       "</style>\n",
       "<table border=\"1\" class=\"dataframe\">\n",
       "  <thead>\n",
       "    <tr style=\"text-align: right;\">\n",
       "      <th></th>\n",
       "      <th>customer_id</th>\n",
       "      <th>FN</th>\n",
       "      <th>Active</th>\n",
       "      <th>club_member_status</th>\n",
       "      <th>fashion_news_frequency</th>\n",
       "      <th>age</th>\n",
       "      <th>postal_code</th>\n",
       "      <th>count</th>\n",
       "    </tr>\n",
       "  </thead>\n",
       "  <tbody>\n",
       "    <tr>\n",
       "      <th>0</th>\n",
       "      <td>0000423b00ade91418cceaf3b26c6af3dd342b51fd051e...</td>\n",
       "      <td>None</td>\n",
       "      <td>None</td>\n",
       "      <td>ACTIVE</td>\n",
       "      <td>NONE</td>\n",
       "      <td>25</td>\n",
       "      <td>2973abc54daa8a5f8ccfe9362140c63247c5eee03f1d93...</td>\n",
       "      <td>8</td>\n",
       "    </tr>\n",
       "    <tr>\n",
       "      <th>1</th>\n",
       "      <td>000058a12d5b43e67d225668fa1f8d618c13dc232df0ca...</td>\n",
       "      <td>None</td>\n",
       "      <td>None</td>\n",
       "      <td>ACTIVE</td>\n",
       "      <td>NONE</td>\n",
       "      <td>24</td>\n",
       "      <td>64f17e6a330a85798e4998f62d0930d14db8db1c054af6...</td>\n",
       "      <td>3</td>\n",
       "    </tr>\n",
       "    <tr>\n",
       "      <th>2</th>\n",
       "      <td>0000c97821eb48d0e590fd309133f0a6c08f7750f64ccc...</td>\n",
       "      <td>None</td>\n",
       "      <td>None</td>\n",
       "      <td>ACTIVE</td>\n",
       "      <td>NONE</td>\n",
       "      <td>49</td>\n",
       "      <td>8ff2d3103bd127d46e7238c6cee0f3fd9a01bd4a49fb98...</td>\n",
       "      <td>1</td>\n",
       "    </tr>\n",
       "    <tr>\n",
       "      <th>3</th>\n",
       "      <td>0001f8cef6b9702d54abf66fd89eb21014bf98567065a9...</td>\n",
       "      <td>None</td>\n",
       "      <td>None</td>\n",
       "      <td>ACTIVE</td>\n",
       "      <td>NONE</td>\n",
       "      <td>21</td>\n",
       "      <td>4211d6bf468de190b2f135feed96ed94b1c47f1d68991c...</td>\n",
       "      <td>7</td>\n",
       "    </tr>\n",
       "    <tr>\n",
       "      <th>4</th>\n",
       "      <td>000226b9ea81019249060b376b516f821a80e9b24f89a7...</td>\n",
       "      <td>None</td>\n",
       "      <td>None</td>\n",
       "      <td>ACTIVE</td>\n",
       "      <td>NONE</td>\n",
       "      <td>25</td>\n",
       "      <td>7bc2c8dd1064b51b2c0d41bdf6a5d8224bd1b16fbeaf6d...</td>\n",
       "      <td>12</td>\n",
       "    </tr>\n",
       "    <tr>\n",
       "      <th>...</th>\n",
       "      <td>...</td>\n",
       "      <td>...</td>\n",
       "      <td>...</td>\n",
       "      <td>...</td>\n",
       "      <td>...</td>\n",
       "      <td>...</td>\n",
       "      <td>...</td>\n",
       "      <td>...</td>\n",
       "    </tr>\n",
       "    <tr>\n",
       "      <th>581181</th>\n",
       "      <td>ffdaf8a5d0d4bbe3511d349ba82382a97232377c0ab9da...</td>\n",
       "      <td>1.0</td>\n",
       "      <td>1.0</td>\n",
       "      <td>ACTIVE</td>\n",
       "      <td>Regularly</td>\n",
       "      <td>66</td>\n",
       "      <td>1be5b3fdb353ffc4a33ac8aa89242f587d6cd7fef42337...</td>\n",
       "      <td>2</td>\n",
       "    </tr>\n",
       "    <tr>\n",
       "      <th>581182</th>\n",
       "      <td>ffe3df5c55a419ed1d1a3ee06539658e9f3e6b8ebc0069...</td>\n",
       "      <td>None</td>\n",
       "      <td>None</td>\n",
       "      <td>ACTIVE</td>\n",
       "      <td>NONE</td>\n",
       "      <td>33</td>\n",
       "      <td>6e543be9c1e7654e2326ba7fa64ffd2e42da8da23cc4af...</td>\n",
       "      <td>4</td>\n",
       "    </tr>\n",
       "    <tr>\n",
       "      <th>581183</th>\n",
       "      <td>ffebe72466db90d0effde7ff04bf5edd17c7ab2ea9a8fd...</td>\n",
       "      <td>1.0</td>\n",
       "      <td>1.0</td>\n",
       "      <td>ACTIVE</td>\n",
       "      <td>Regularly</td>\n",
       "      <td>38</td>\n",
       "      <td>715494c611efff2348c27dcac148354099d3c5159a5ee6...</td>\n",
       "      <td>6</td>\n",
       "    </tr>\n",
       "    <tr>\n",
       "      <th>581184</th>\n",
       "      <td>fff63d0371da299d55e8f71115eb6f9c484e05c9cc43ff...</td>\n",
       "      <td>1.0</td>\n",
       "      <td>1.0</td>\n",
       "      <td>ACTIVE</td>\n",
       "      <td>Regularly</td>\n",
       "      <td>28</td>\n",
       "      <td>7c22218bbcfdac3b3c507708f749a2fa9dea383a103093...</td>\n",
       "      <td>3</td>\n",
       "    </tr>\n",
       "    <tr>\n",
       "      <th>581185</th>\n",
       "      <td>ffffa28cd7ab5d1cbbbfe7b582b1c419270cc0539f3dae...</td>\n",
       "      <td>1.0</td>\n",
       "      <td>1.0</td>\n",
       "      <td>ACTIVE</td>\n",
       "      <td>Regularly</td>\n",
       "      <td>22</td>\n",
       "      <td>e89f7536a3d1ff494b6324604db93646fca956d85f8e83...</td>\n",
       "      <td>3</td>\n",
       "    </tr>\n",
       "  </tbody>\n",
       "</table>\n",
       "<p>581186 rows × 8 columns</p>\n",
       "</div>"
      ],
      "text/plain": [
       "                                              customer_id    FN Active  \\\n",
       "0       0000423b00ade91418cceaf3b26c6af3dd342b51fd051e...  None   None   \n",
       "1       000058a12d5b43e67d225668fa1f8d618c13dc232df0ca...  None   None   \n",
       "2       0000c97821eb48d0e590fd309133f0a6c08f7750f64ccc...  None   None   \n",
       "3       0001f8cef6b9702d54abf66fd89eb21014bf98567065a9...  None   None   \n",
       "4       000226b9ea81019249060b376b516f821a80e9b24f89a7...  None   None   \n",
       "...                                                   ...   ...    ...   \n",
       "581181  ffdaf8a5d0d4bbe3511d349ba82382a97232377c0ab9da...   1.0    1.0   \n",
       "581182  ffe3df5c55a419ed1d1a3ee06539658e9f3e6b8ebc0069...  None   None   \n",
       "581183  ffebe72466db90d0effde7ff04bf5edd17c7ab2ea9a8fd...   1.0    1.0   \n",
       "581184  fff63d0371da299d55e8f71115eb6f9c484e05c9cc43ff...   1.0    1.0   \n",
       "581185  ffffa28cd7ab5d1cbbbfe7b582b1c419270cc0539f3dae...   1.0    1.0   \n",
       "\n",
       "       club_member_status fashion_news_frequency age  \\\n",
       "0                  ACTIVE                   NONE  25   \n",
       "1                  ACTIVE                   NONE  24   \n",
       "2                  ACTIVE                   NONE  49   \n",
       "3                  ACTIVE                   NONE  21   \n",
       "4                  ACTIVE                   NONE  25   \n",
       "...                   ...                    ...  ..   \n",
       "581181             ACTIVE              Regularly  66   \n",
       "581182             ACTIVE                   NONE  33   \n",
       "581183             ACTIVE              Regularly  38   \n",
       "581184             ACTIVE              Regularly  28   \n",
       "581185             ACTIVE              Regularly  22   \n",
       "\n",
       "                                              postal_code  count  \n",
       "0       2973abc54daa8a5f8ccfe9362140c63247c5eee03f1d93...      8  \n",
       "1       64f17e6a330a85798e4998f62d0930d14db8db1c054af6...      3  \n",
       "2       8ff2d3103bd127d46e7238c6cee0f3fd9a01bd4a49fb98...      1  \n",
       "3       4211d6bf468de190b2f135feed96ed94b1c47f1d68991c...      7  \n",
       "4       7bc2c8dd1064b51b2c0d41bdf6a5d8224bd1b16fbeaf6d...     12  \n",
       "...                                                   ...    ...  \n",
       "581181  1be5b3fdb353ffc4a33ac8aa89242f587d6cd7fef42337...      2  \n",
       "581182  6e543be9c1e7654e2326ba7fa64ffd2e42da8da23cc4af...      4  \n",
       "581183  715494c611efff2348c27dcac148354099d3c5159a5ee6...      6  \n",
       "581184  7c22218bbcfdac3b3c507708f749a2fa9dea383a103093...      3  \n",
       "581185  e89f7536a3d1ff494b6324604db93646fca956d85f8e83...      3  \n",
       "\n",
       "[581186 rows x 8 columns]"
      ]
     },
     "execution_count": 101,
     "metadata": {},
     "output_type": "execute_result"
    }
   ],
   "source": [
    "df_2018"
   ]
  },
  {
   "cell_type": "code",
   "execution_count": 153,
   "id": "636dee08-de1d-4b72-90b2-d8106c886315",
   "metadata": {},
   "outputs": [
    {
     "name": "stdout",
     "output_type": "stream",
     "text": [
      "False    353868\n",
      "True     227318\n",
      "Name: FN, dtype: int64\n",
      "False    360079\n",
      "True     221107\n",
      "Name: Active, dtype: int64\n",
      "1.0    545250\n",
      "2.0     32396\n",
      "3.0       187\n",
      "Name: club_member_status, dtype: int64\n",
      "1.0    349898\n",
      "2.0    227554\n",
      "3.0       492\n",
      "Name: fashion_news_frequency, dtype: int64\n"
     ]
    }
   ],
   "source": [
    "import numpy as np\n",
    "\n",
    "df_2018[\"FN\"] = df_2018[\"FN\"].replace('1.0', True)\n",
    "df_2018[\"FN\"] = df_2018[\"FN\"].replace(np.nan, False)\n",
    "print(df_2018[\"FN\"].value_counts())\n",
    "\n",
    "df_2018[\"Active\"] = df_2018[\"Active\"].replace('1.0', True)\n",
    "df_2018[\"Active\"] = df_2018[\"Active\"].replace(np.nan, False)\n",
    "print(df_2018[\"Active\"].value_counts())\n",
    "\n",
    "cleanup = {\"club_member_status\": {\"ACTIVE\": 1, \"PRE-CREATE\": 2, \"LEFT CLUB\": 3}, \n",
    "          \"fashion_news_frequency\": {\"NONE\": 1, \"Regularly\": 2, \"Monthly\": 3}}\n",
    "df_2018 = df_2018.replace(cleanup)\n",
    "print(df_2018[\"club_member_status\"].value_counts())\n",
    "print(df_2018[\"fashion_news_frequency\"].value_counts())\n",
    "df_2018[\"club_member_status\"] = df_2018[\"club_member_status\"].fillna(0)\n",
    "df_2018[\"fashion_news_frequency\"] = df_2018[\"fashion_news_frequency\"].fillna(1)\n",
    "df_2018[\"club_member_status\"] = df_2018[\"club_member_status\"].astype(str).astype(float)#.astype(\"category\")\n",
    "df_2018[\"fashion_news_frequency\"] = df_2018[\"fashion_news_frequency\"].astype(str).astype(float)#.astype(\"category\")\n",
    "\n",
    "\n",
    "df_2018[\"age\"] = df_2018[\"age\"].astype(float)\n",
    "mean_age = df_2018[\"age\"].mean()\n",
    "df_2018[\"age\"] = df_2018[\"age\"].fillna(mean_age)\n",
    "\n",
    "df_2018[\"postal_code\"] = df_2018[\"postal_code\"].astype(\"category\")"
   ]
  },
  {
   "cell_type": "code",
   "execution_count": 103,
   "id": "d7495ec5-1b8b-4c35-a47d-4c6de12092c8",
   "metadata": {},
   "outputs": [
    {
     "data": {
      "text/plain": [
       "customer_id                 object\n",
       "FN                            bool\n",
       "Active                        bool\n",
       "club_member_status         float64\n",
       "fashion_news_frequency     float64\n",
       "age                        float64\n",
       "postal_code               category\n",
       "count                        int64\n",
       "dtype: object"
      ]
     },
     "execution_count": 103,
     "metadata": {},
     "output_type": "execute_result"
    }
   ],
   "source": [
    "df_2018.dtypes"
   ]
  },
  {
   "cell_type": "code",
   "execution_count": 165,
   "id": "a49524a6-05a2-4aa9-ab56-3501c07fadde",
   "metadata": {},
   "outputs": [],
   "source": [
    "df_2018_train = df_2018[[\"FN\", \"Active\", \"club_member_status\", \"fashion_news_frequency\", \"age\", \"count\"]]\n",
    "X = df_2018_train[[\"FN\", \"Active\", \"club_member_status\", \"fashion_news_frequency\", \"age\"]]\n",
    "y = df_2018_train[\"count\"]"
   ]
  },
  {
   "cell_type": "code",
   "execution_count": 148,
   "id": "61d6be83-c1e7-41cb-9862-cd4521379fe2",
   "metadata": {},
   "outputs": [],
   "source": [
    "from sklearn.model_selection import train_test_split\n",
    "\n",
    "X_train, X_test, y_train, y_test = train_test_split(X, y, test_size=0.33, random_state=42)\n"
   ]
  },
  {
   "cell_type": "code",
   "execution_count": 117,
   "id": "0a91b362-8b4c-4408-b8ae-2e94a5c303aa",
   "metadata": {},
   "outputs": [],
   "source": [
    "from sklearn.linear_model import LinearRegression\n",
    "\n",
    "\n",
    "clf_linear_regression = LinearRegression().fit(X_train, y_train)"
   ]
  },
  {
   "cell_type": "code",
   "execution_count": 118,
   "id": "419b50d8-a3a2-4f08-8f2a-cee3813175b8",
   "metadata": {},
   "outputs": [
    {
     "data": {
      "text/plain": [
       "array([8.24803601, 7.50064945, 7.55102592, ..., 8.24173895, 8.05282718,\n",
       "       7.54472886])"
      ]
     },
     "execution_count": 118,
     "metadata": {},
     "output_type": "execute_result"
    }
   ],
   "source": [
    "predictions_linear_regression = clf_linear_regression.predict(X_test)\n",
    "predictions_linear_regression"
   ]
  },
  {
   "cell_type": "code",
   "execution_count": 119,
   "id": "c7941165-fe0e-48da-87b6-17a30042ec84",
   "metadata": {},
   "outputs": [
    {
     "name": "stdout",
     "output_type": "stream",
     "text": [
      "Mean squared error: 91.58\n",
      "Coefficient of determination: 0.01\n"
     ]
    }
   ],
   "source": [
    "from sklearn.metrics import mean_squared_error, r2_score\n",
    "\n",
    "print(\"Mean squared error: %.2f\" % mean_squared_error(y_test, predictions_linear_regression))\n",
    "print(\"Coefficient of determination: %.2f\" % r2_score(y_test, predictions_linear_regression))"
   ]
  },
  {
   "cell_type": "code",
   "execution_count": 142,
   "id": "705da7d0-5d96-44e1-906f-aaf62b624b81",
   "metadata": {},
   "outputs": [
    {
     "name": "stdout",
     "output_type": "stream",
     "text": [
      "TensorFlow version: 2.8.0\n"
     ]
    }
   ],
   "source": [
    "import tensorflow as tf \n",
    "print(\"TensorFlow version:\", tf.__version__)\n",
    "\n",
    "SHUFFLE_BUFFER = 500\n",
    "BATCH_SIZE = 2"
   ]
  },
  {
   "cell_type": "code",
   "execution_count": 166,
   "id": "b87b9994-b2e2-4c48-876d-99808eb3b7ab",
   "metadata": {},
   "outputs": [
    {
     "data": {
      "text/plain": [
       "FN                           bool\n",
       "Active                       bool\n",
       "club_member_status        float64\n",
       "fashion_news_frequency    float64\n",
       "age                       float64\n",
       "count                       int64\n",
       "dtype: object"
      ]
     },
     "execution_count": 166,
     "metadata": {},
     "output_type": "execute_result"
    }
   ],
   "source": [
    "df_2018_train.dtypes"
   ]
  },
  {
   "cell_type": "code",
   "execution_count": 167,
   "id": "886b525f-6807-4aa8-be29-c60824ffb3f4",
   "metadata": {},
   "outputs": [],
   "source": [
    "target = df_2018_train.pop(\"count\")"
   ]
  },
  {
   "cell_type": "code",
   "execution_count": 168,
   "id": "3383017b-485f-4756-b162-d2afc8001171",
   "metadata": {},
   "outputs": [],
   "source": [
    "df_2018_train=np.asarray(df_2018_train).astype('float32')\n",
    "df_2018_train=tf.convert_to_tensor(df_2018_train)"
   ]
  },
  {
   "cell_type": "code",
   "execution_count": 169,
   "id": "58c929eb-ec03-46ff-aa97-342bc6d8a282",
   "metadata": {},
   "outputs": [],
   "source": [
    "normalizer = tf.keras.layers.Normalization(axis=-1)\n",
    "normalizer.adapt(df_2018_train)"
   ]
  },
  {
   "cell_type": "code",
   "execution_count": 161,
   "id": "78c25ef0-e845-4e8f-b358-1e94f41d7e93",
   "metadata": {},
   "outputs": [
    {
     "ename": "AttributeError",
     "evalue": "'tensorflow.python.framework.ops.EagerTensor' object has no attribute 'iloc'",
     "output_type": "error",
     "traceback": [
      "\u001b[0;31m---------------------------------------------------------------------------\u001b[0m",
      "\u001b[0;31mAttributeError\u001b[0m                            Traceback (most recent call last)",
      "Input \u001b[0;32mIn [161]\u001b[0m, in \u001b[0;36m<module>\u001b[0;34m\u001b[0m\n\u001b[1;32m      1\u001b[0m \u001b[38;5;28;01mfrom\u001b[39;00m \u001b[38;5;21;01mtensorflow\u001b[39;00m\u001b[38;5;21;01m.\u001b[39;00m\u001b[38;5;21;01mpython\u001b[39;00m\u001b[38;5;21;01m.\u001b[39;00m\u001b[38;5;21;01mops\u001b[39;00m\u001b[38;5;21;01m.\u001b[39;00m\u001b[38;5;21;01mnumpy_ops\u001b[39;00m \u001b[38;5;28;01mimport\u001b[39;00m np_config\n\u001b[1;32m      2\u001b[0m np_config\u001b[38;5;241m.\u001b[39menable_numpy_behavior()\n\u001b[0;32m----> 4\u001b[0m normalizer(\u001b[43mdf_2018_train\u001b[49m\u001b[38;5;241;43m.\u001b[39;49m\u001b[43miloc\u001b[49m[:\u001b[38;5;241m3\u001b[39m])\n",
      "File \u001b[0;32m~/kaggle/venv/lib64/python3.8/site-packages/tensorflow/python/framework/ops.py:513\u001b[0m, in \u001b[0;36mTensor.__getattr__\u001b[0;34m(self, name)\u001b[0m\n\u001b[1;32m    505\u001b[0m \u001b[38;5;28;01mif\u001b[39;00m name \u001b[38;5;129;01min\u001b[39;00m {\u001b[38;5;124m\"\u001b[39m\u001b[38;5;124mT\u001b[39m\u001b[38;5;124m\"\u001b[39m, \u001b[38;5;124m\"\u001b[39m\u001b[38;5;124mastype\u001b[39m\u001b[38;5;124m\"\u001b[39m, \u001b[38;5;124m\"\u001b[39m\u001b[38;5;124mravel\u001b[39m\u001b[38;5;124m\"\u001b[39m, \u001b[38;5;124m\"\u001b[39m\u001b[38;5;124mtranspose\u001b[39m\u001b[38;5;124m\"\u001b[39m, \u001b[38;5;124m\"\u001b[39m\u001b[38;5;124mreshape\u001b[39m\u001b[38;5;124m\"\u001b[39m, \u001b[38;5;124m\"\u001b[39m\u001b[38;5;124mclip\u001b[39m\u001b[38;5;124m\"\u001b[39m, \u001b[38;5;124m\"\u001b[39m\u001b[38;5;124msize\u001b[39m\u001b[38;5;124m\"\u001b[39m,\n\u001b[1;32m    506\u001b[0m             \u001b[38;5;124m\"\u001b[39m\u001b[38;5;124mtolist\u001b[39m\u001b[38;5;124m\"\u001b[39m, \u001b[38;5;124m\"\u001b[39m\u001b[38;5;124mdata\u001b[39m\u001b[38;5;124m\"\u001b[39m}:\n\u001b[1;32m    507\u001b[0m   \u001b[38;5;66;03m# TODO(wangpeng): Export the enable_numpy_behavior knob\u001b[39;00m\n\u001b[1;32m    508\u001b[0m   \u001b[38;5;28;01mraise\u001b[39;00m \u001b[38;5;167;01mAttributeError\u001b[39;00m(\u001b[38;5;124m\"\"\"\u001b[39m\n\u001b[1;32m    509\u001b[0m \u001b[38;5;124m    \u001b[39m\u001b[38;5;124m'\u001b[39m\u001b[38;5;132;01m{}\u001b[39;00m\u001b[38;5;124m'\u001b[39m\u001b[38;5;124m object has no attribute \u001b[39m\u001b[38;5;124m'\u001b[39m\u001b[38;5;132;01m{}\u001b[39;00m\u001b[38;5;124m'\u001b[39m\u001b[38;5;124m.\u001b[39m\n\u001b[1;32m    510\u001b[0m \u001b[38;5;124m    If you are looking for numpy-related methods, please run the following:\u001b[39m\n\u001b[1;32m    511\u001b[0m \u001b[38;5;124m    from tensorflow.python.ops.numpy_ops import np_config\u001b[39m\n\u001b[1;32m    512\u001b[0m \u001b[38;5;124m    np_config.enable_numpy_behavior()\u001b[39m\u001b[38;5;124m\"\"\"\u001b[39m\u001b[38;5;241m.\u001b[39mformat(\u001b[38;5;28mtype\u001b[39m(\u001b[38;5;28mself\u001b[39m)\u001b[38;5;241m.\u001b[39m\u001b[38;5;18m__name__\u001b[39m, name))\n\u001b[0;32m--> 513\u001b[0m \u001b[38;5;28;43mself\u001b[39;49m\u001b[38;5;241;43m.\u001b[39;49m\u001b[38;5;21;43m__getattribute__\u001b[39;49m\u001b[43m(\u001b[49m\u001b[43mname\u001b[49m\u001b[43m)\u001b[49m\n",
      "\u001b[0;31mAttributeError\u001b[0m: 'tensorflow.python.framework.ops.EagerTensor' object has no attribute 'iloc'"
     ]
    }
   ],
   "source": [
    "from tensorflow.python.ops.numpy_ops import np_config\n",
    "np_config.enable_numpy_behavior()\n",
    "\n",
    "normalizer(df_2018_train.iloc[:3])"
   ]
  },
  {
   "cell_type": "code",
   "execution_count": 170,
   "id": "7114ad54-eba7-4e53-8f25-e71a9dca25b6",
   "metadata": {},
   "outputs": [],
   "source": [
    "def get_basic_model():\n",
    "  model = tf.keras.Sequential([\n",
    "    normalizer,\n",
    "    tf.keras.layers.Dense(10, activation='relu'),\n",
    "    tf.keras.layers.Dense(10, activation='relu'),\n",
    "    tf.keras.layers.Dense(1)\n",
    "  ])\n",
    "\n",
    "  model.compile(optimizer='adam',\n",
    "                loss=tf.keras.losses.BinaryCrossentropy(from_logits=True),\n",
    "                metrics=['accuracy'])\n",
    "  return model"
   ]
  },
  {
   "cell_type": "code",
   "execution_count": 171,
   "id": "d4470d20-e3de-4989-85b2-5428fd2ff788",
   "metadata": {},
   "outputs": [
    {
     "name": "stdout",
     "output_type": "stream",
     "text": [
      "Epoch 1/15\n",
      "290593/290593 [==============================] - 389s 1ms/step - loss: -1230286208.0000 - accuracy: 0.1515\n",
      "Epoch 2/15\n",
      "290593/290593 [==============================] - 399s 1ms/step - loss: -17423955968.0000 - accuracy: 0.1516\n",
      "Epoch 3/15\n",
      "290593/290593 [==============================] - 381s 1ms/step - loss: -74206814208.0000 - accuracy: 0.1516\n",
      "Epoch 4/15\n",
      "290593/290593 [==============================] - 376s 1ms/step - loss: -198158155776.0000 - accuracy: 0.1516\n",
      "Epoch 5/15\n",
      "290593/290593 [==============================] - 405s 1ms/step - loss: -415292850176.0000 - accuracy: 0.1516\n",
      "Epoch 6/15\n",
      "290593/290593 [==============================] - 384s 1ms/step - loss: -750854471680.0000 - accuracy: 0.1516\n",
      "Epoch 7/15\n",
      "290593/290593 [==============================] - 383s 1ms/step - loss: -1233448206336.0000 - accuracy: 0.1516\n",
      "Epoch 8/15\n",
      "290593/290593 [==============================] - 390s 1ms/step - loss: -1887607062528.0000 - accuracy: 0.1516\n",
      "Epoch 9/15\n",
      "290593/290593 [==============================] - 436s 2ms/step - loss: -2741593178112.0000 - accuracy: 0.1516\n",
      "Epoch 10/15\n",
      "290593/290593 [==============================] - 424s 1ms/step - loss: -3819638882304.0000 - accuracy: 0.1516\n",
      "Epoch 11/15\n",
      "290593/290593 [==============================] - 403s 1ms/step - loss: -5148149022720.0000 - accuracy: 0.1516\n",
      "Epoch 12/15\n",
      "290593/290593 [==============================] - 419s 1ms/step - loss: -6754339913728.0000 - accuracy: 0.1516\n",
      "Epoch 13/15\n",
      "290593/290593 [==============================] - 424s 1ms/step - loss: -8663412506624.0000 - accuracy: 0.1516\n",
      "Epoch 14/15\n",
      "  6785/290593 [..............................] - ETA: 6:40 - loss: -9665249280000.0000 - accuracy: 0.1514"
     ]
    },
    {
     "ename": "KeyboardInterrupt",
     "evalue": "",
     "output_type": "error",
     "traceback": [
      "\u001b[0;31m---------------------------------------------------------------------------\u001b[0m",
      "\u001b[0;31mKeyboardInterrupt\u001b[0m                         Traceback (most recent call last)",
      "Input \u001b[0;32mIn [171]\u001b[0m, in \u001b[0;36m<module>\u001b[0;34m\u001b[0m\n\u001b[1;32m      1\u001b[0m model \u001b[38;5;241m=\u001b[39m get_basic_model()\n\u001b[0;32m----> 2\u001b[0m \u001b[43mmodel\u001b[49m\u001b[38;5;241;43m.\u001b[39;49m\u001b[43mfit\u001b[49m\u001b[43m(\u001b[49m\u001b[43mdf_2018_train\u001b[49m\u001b[43m,\u001b[49m\u001b[43m \u001b[49m\u001b[43mtarget\u001b[49m\u001b[43m,\u001b[49m\u001b[43m \u001b[49m\u001b[43mepochs\u001b[49m\u001b[38;5;241;43m=\u001b[39;49m\u001b[38;5;241;43m15\u001b[39;49m\u001b[43m,\u001b[49m\u001b[43m \u001b[49m\u001b[43mbatch_size\u001b[49m\u001b[38;5;241;43m=\u001b[39;49m\u001b[43mBATCH_SIZE\u001b[49m\u001b[43m)\u001b[49m\n",
      "File \u001b[0;32m~/kaggle/venv/lib64/python3.8/site-packages/keras/utils/traceback_utils.py:64\u001b[0m, in \u001b[0;36mfilter_traceback.<locals>.error_handler\u001b[0;34m(*args, **kwargs)\u001b[0m\n\u001b[1;32m     62\u001b[0m filtered_tb \u001b[38;5;241m=\u001b[39m \u001b[38;5;28;01mNone\u001b[39;00m\n\u001b[1;32m     63\u001b[0m \u001b[38;5;28;01mtry\u001b[39;00m:\n\u001b[0;32m---> 64\u001b[0m   \u001b[38;5;28;01mreturn\u001b[39;00m \u001b[43mfn\u001b[49m\u001b[43m(\u001b[49m\u001b[38;5;241;43m*\u001b[39;49m\u001b[43margs\u001b[49m\u001b[43m,\u001b[49m\u001b[43m \u001b[49m\u001b[38;5;241;43m*\u001b[39;49m\u001b[38;5;241;43m*\u001b[39;49m\u001b[43mkwargs\u001b[49m\u001b[43m)\u001b[49m\n\u001b[1;32m     65\u001b[0m \u001b[38;5;28;01mexcept\u001b[39;00m \u001b[38;5;167;01mException\u001b[39;00m \u001b[38;5;28;01mas\u001b[39;00m e:  \u001b[38;5;66;03m# pylint: disable=broad-except\u001b[39;00m\n\u001b[1;32m     66\u001b[0m   filtered_tb \u001b[38;5;241m=\u001b[39m _process_traceback_frames(e\u001b[38;5;241m.\u001b[39m__traceback__)\n",
      "File \u001b[0;32m~/kaggle/venv/lib64/python3.8/site-packages/keras/engine/training.py:1389\u001b[0m, in \u001b[0;36mModel.fit\u001b[0;34m(self, x, y, batch_size, epochs, verbose, callbacks, validation_split, validation_data, shuffle, class_weight, sample_weight, initial_epoch, steps_per_epoch, validation_steps, validation_batch_size, validation_freq, max_queue_size, workers, use_multiprocessing)\u001b[0m\n\u001b[1;32m   1387\u001b[0m logs \u001b[38;5;241m=\u001b[39m tmp_logs  \u001b[38;5;66;03m# No error, now safe to assign to logs.\u001b[39;00m\n\u001b[1;32m   1388\u001b[0m end_step \u001b[38;5;241m=\u001b[39m step \u001b[38;5;241m+\u001b[39m data_handler\u001b[38;5;241m.\u001b[39mstep_increment\n\u001b[0;32m-> 1389\u001b[0m \u001b[43mcallbacks\u001b[49m\u001b[38;5;241;43m.\u001b[39;49m\u001b[43mon_train_batch_end\u001b[49m\u001b[43m(\u001b[49m\u001b[43mend_step\u001b[49m\u001b[43m,\u001b[49m\u001b[43m \u001b[49m\u001b[43mlogs\u001b[49m\u001b[43m)\u001b[49m\n\u001b[1;32m   1390\u001b[0m \u001b[38;5;28;01mif\u001b[39;00m \u001b[38;5;28mself\u001b[39m\u001b[38;5;241m.\u001b[39mstop_training:\n\u001b[1;32m   1391\u001b[0m   \u001b[38;5;28;01mbreak\u001b[39;00m\n",
      "File \u001b[0;32m~/kaggle/venv/lib64/python3.8/site-packages/keras/callbacks.py:438\u001b[0m, in \u001b[0;36mCallbackList.on_train_batch_end\u001b[0;34m(self, batch, logs)\u001b[0m\n\u001b[1;32m    431\u001b[0m \u001b[38;5;124;03m\"\"\"Calls the `on_train_batch_end` methods of its callbacks.\u001b[39;00m\n\u001b[1;32m    432\u001b[0m \n\u001b[1;32m    433\u001b[0m \u001b[38;5;124;03mArgs:\u001b[39;00m\n\u001b[1;32m    434\u001b[0m \u001b[38;5;124;03m    batch: Integer, index of batch within the current epoch.\u001b[39;00m\n\u001b[1;32m    435\u001b[0m \u001b[38;5;124;03m    logs: Dict. Aggregated metric results up until this batch.\u001b[39;00m\n\u001b[1;32m    436\u001b[0m \u001b[38;5;124;03m\"\"\"\u001b[39;00m\n\u001b[1;32m    437\u001b[0m \u001b[38;5;28;01mif\u001b[39;00m \u001b[38;5;28mself\u001b[39m\u001b[38;5;241m.\u001b[39m_should_call_train_batch_hooks:\n\u001b[0;32m--> 438\u001b[0m   \u001b[38;5;28;43mself\u001b[39;49m\u001b[38;5;241;43m.\u001b[39;49m\u001b[43m_call_batch_hook\u001b[49m\u001b[43m(\u001b[49m\u001b[43mModeKeys\u001b[49m\u001b[38;5;241;43m.\u001b[39;49m\u001b[43mTRAIN\u001b[49m\u001b[43m,\u001b[49m\u001b[43m \u001b[49m\u001b[38;5;124;43m'\u001b[39;49m\u001b[38;5;124;43mend\u001b[39;49m\u001b[38;5;124;43m'\u001b[39;49m\u001b[43m,\u001b[49m\u001b[43m \u001b[49m\u001b[43mbatch\u001b[49m\u001b[43m,\u001b[49m\u001b[43m \u001b[49m\u001b[43mlogs\u001b[49m\u001b[38;5;241;43m=\u001b[39;49m\u001b[43mlogs\u001b[49m\u001b[43m)\u001b[49m\n",
      "File \u001b[0;32m~/kaggle/venv/lib64/python3.8/site-packages/keras/callbacks.py:297\u001b[0m, in \u001b[0;36mCallbackList._call_batch_hook\u001b[0;34m(self, mode, hook, batch, logs)\u001b[0m\n\u001b[1;32m    295\u001b[0m   \u001b[38;5;28mself\u001b[39m\u001b[38;5;241m.\u001b[39m_call_batch_begin_hook(mode, batch, logs)\n\u001b[1;32m    296\u001b[0m \u001b[38;5;28;01melif\u001b[39;00m hook \u001b[38;5;241m==\u001b[39m \u001b[38;5;124m'\u001b[39m\u001b[38;5;124mend\u001b[39m\u001b[38;5;124m'\u001b[39m:\n\u001b[0;32m--> 297\u001b[0m   \u001b[38;5;28;43mself\u001b[39;49m\u001b[38;5;241;43m.\u001b[39;49m\u001b[43m_call_batch_end_hook\u001b[49m\u001b[43m(\u001b[49m\u001b[43mmode\u001b[49m\u001b[43m,\u001b[49m\u001b[43m \u001b[49m\u001b[43mbatch\u001b[49m\u001b[43m,\u001b[49m\u001b[43m \u001b[49m\u001b[43mlogs\u001b[49m\u001b[43m)\u001b[49m\n\u001b[1;32m    298\u001b[0m \u001b[38;5;28;01melse\u001b[39;00m:\n\u001b[1;32m    299\u001b[0m   \u001b[38;5;28;01mraise\u001b[39;00m \u001b[38;5;167;01mValueError\u001b[39;00m(\n\u001b[1;32m    300\u001b[0m       \u001b[38;5;124mf\u001b[39m\u001b[38;5;124m'\u001b[39m\u001b[38;5;124mUnrecognized hook: \u001b[39m\u001b[38;5;132;01m{\u001b[39;00mhook\u001b[38;5;132;01m}\u001b[39;00m\u001b[38;5;124m. Expected values are [\u001b[39m\u001b[38;5;124m\"\u001b[39m\u001b[38;5;124mbegin\u001b[39m\u001b[38;5;124m\"\u001b[39m\u001b[38;5;124m, \u001b[39m\u001b[38;5;124m\"\u001b[39m\u001b[38;5;124mend\u001b[39m\u001b[38;5;124m\"\u001b[39m\u001b[38;5;124m]\u001b[39m\u001b[38;5;124m'\u001b[39m)\n",
      "File \u001b[0;32m~/kaggle/venv/lib64/python3.8/site-packages/keras/callbacks.py:318\u001b[0m, in \u001b[0;36mCallbackList._call_batch_end_hook\u001b[0;34m(self, mode, batch, logs)\u001b[0m\n\u001b[1;32m    315\u001b[0m   batch_time \u001b[38;5;241m=\u001b[39m time\u001b[38;5;241m.\u001b[39mtime() \u001b[38;5;241m-\u001b[39m \u001b[38;5;28mself\u001b[39m\u001b[38;5;241m.\u001b[39m_batch_start_time\n\u001b[1;32m    316\u001b[0m   \u001b[38;5;28mself\u001b[39m\u001b[38;5;241m.\u001b[39m_batch_times\u001b[38;5;241m.\u001b[39mappend(batch_time)\n\u001b[0;32m--> 318\u001b[0m \u001b[38;5;28;43mself\u001b[39;49m\u001b[38;5;241;43m.\u001b[39;49m\u001b[43m_call_batch_hook_helper\u001b[49m\u001b[43m(\u001b[49m\u001b[43mhook_name\u001b[49m\u001b[43m,\u001b[49m\u001b[43m \u001b[49m\u001b[43mbatch\u001b[49m\u001b[43m,\u001b[49m\u001b[43m \u001b[49m\u001b[43mlogs\u001b[49m\u001b[43m)\u001b[49m\n\u001b[1;32m    320\u001b[0m \u001b[38;5;28;01mif\u001b[39;00m \u001b[38;5;28mlen\u001b[39m(\u001b[38;5;28mself\u001b[39m\u001b[38;5;241m.\u001b[39m_batch_times) \u001b[38;5;241m>\u001b[39m\u001b[38;5;241m=\u001b[39m \u001b[38;5;28mself\u001b[39m\u001b[38;5;241m.\u001b[39m_num_batches_for_timing_check:\n\u001b[1;32m    321\u001b[0m   end_hook_name \u001b[38;5;241m=\u001b[39m hook_name\n",
      "File \u001b[0;32m~/kaggle/venv/lib64/python3.8/site-packages/keras/callbacks.py:356\u001b[0m, in \u001b[0;36mCallbackList._call_batch_hook_helper\u001b[0;34m(self, hook_name, batch, logs)\u001b[0m\n\u001b[1;32m    354\u001b[0m \u001b[38;5;28;01mfor\u001b[39;00m callback \u001b[38;5;129;01min\u001b[39;00m \u001b[38;5;28mself\u001b[39m\u001b[38;5;241m.\u001b[39mcallbacks:\n\u001b[1;32m    355\u001b[0m   hook \u001b[38;5;241m=\u001b[39m \u001b[38;5;28mgetattr\u001b[39m(callback, hook_name)\n\u001b[0;32m--> 356\u001b[0m   \u001b[43mhook\u001b[49m\u001b[43m(\u001b[49m\u001b[43mbatch\u001b[49m\u001b[43m,\u001b[49m\u001b[43m \u001b[49m\u001b[43mlogs\u001b[49m\u001b[43m)\u001b[49m\n\u001b[1;32m    358\u001b[0m \u001b[38;5;28;01mif\u001b[39;00m \u001b[38;5;28mself\u001b[39m\u001b[38;5;241m.\u001b[39m_check_timing:\n\u001b[1;32m    359\u001b[0m   \u001b[38;5;28;01mif\u001b[39;00m hook_name \u001b[38;5;129;01mnot\u001b[39;00m \u001b[38;5;129;01min\u001b[39;00m \u001b[38;5;28mself\u001b[39m\u001b[38;5;241m.\u001b[39m_hook_times:\n",
      "File \u001b[0;32m~/kaggle/venv/lib64/python3.8/site-packages/keras/callbacks.py:1034\u001b[0m, in \u001b[0;36mProgbarLogger.on_train_batch_end\u001b[0;34m(self, batch, logs)\u001b[0m\n\u001b[1;32m   1033\u001b[0m \u001b[38;5;28;01mdef\u001b[39;00m \u001b[38;5;21mon_train_batch_end\u001b[39m(\u001b[38;5;28mself\u001b[39m, batch, logs\u001b[38;5;241m=\u001b[39m\u001b[38;5;28;01mNone\u001b[39;00m):\n\u001b[0;32m-> 1034\u001b[0m   \u001b[38;5;28;43mself\u001b[39;49m\u001b[38;5;241;43m.\u001b[39;49m\u001b[43m_batch_update_progbar\u001b[49m\u001b[43m(\u001b[49m\u001b[43mbatch\u001b[49m\u001b[43m,\u001b[49m\u001b[43m \u001b[49m\u001b[43mlogs\u001b[49m\u001b[43m)\u001b[49m\n",
      "File \u001b[0;32m~/kaggle/venv/lib64/python3.8/site-packages/keras/callbacks.py:1106\u001b[0m, in \u001b[0;36mProgbarLogger._batch_update_progbar\u001b[0;34m(self, batch, logs)\u001b[0m\n\u001b[1;32m   1102\u001b[0m   \u001b[38;5;28mself\u001b[39m\u001b[38;5;241m.\u001b[39mseen \u001b[38;5;241m+\u001b[39m\u001b[38;5;241m=\u001b[39m add_seen\n\u001b[1;32m   1104\u001b[0m \u001b[38;5;28;01mif\u001b[39;00m \u001b[38;5;28mself\u001b[39m\u001b[38;5;241m.\u001b[39mverbose \u001b[38;5;241m==\u001b[39m \u001b[38;5;241m1\u001b[39m:\n\u001b[1;32m   1105\u001b[0m   \u001b[38;5;66;03m# Only block async when verbose = 1.\u001b[39;00m\n\u001b[0;32m-> 1106\u001b[0m   logs \u001b[38;5;241m=\u001b[39m \u001b[43mtf_utils\u001b[49m\u001b[38;5;241;43m.\u001b[39;49m\u001b[43msync_to_numpy_or_python_type\u001b[49m(logs)\n\u001b[1;32m   1107\u001b[0m   \u001b[38;5;28mself\u001b[39m\u001b[38;5;241m.\u001b[39mprogbar\u001b[38;5;241m.\u001b[39mupdate(\u001b[38;5;28mself\u001b[39m\u001b[38;5;241m.\u001b[39mseen, \u001b[38;5;28mlist\u001b[39m(logs\u001b[38;5;241m.\u001b[39mitems()), finalize\u001b[38;5;241m=\u001b[39m\u001b[38;5;28;01mFalse\u001b[39;00m)\n",
      "\u001b[0;31mKeyboardInterrupt\u001b[0m: "
     ]
    }
   ],
   "source": [
    "model = get_basic_model()\n",
    "model.fit(df_2018_train, target, epochs=15, batch_size=BATCH_SIZE)"
   ]
  },
  {
   "cell_type": "code",
   "execution_count": null,
   "id": "5bfa09d0-733b-4eb3-bc01-fb3262bf1b1d",
   "metadata": {},
   "outputs": [],
   "source": []
  }
 ],
 "metadata": {
  "kernelspec": {
   "display_name": "Python 3 (ipykernel)",
   "language": "python",
   "name": "python3"
  },
  "language_info": {
   "codemirror_mode": {
    "name": "ipython",
    "version": 3
   },
   "file_extension": ".py",
   "mimetype": "text/x-python",
   "name": "python",
   "nbconvert_exporter": "python",
   "pygments_lexer": "ipython3",
   "version": "3.8.12"
  }
 },
 "nbformat": 4,
 "nbformat_minor": 5
}
